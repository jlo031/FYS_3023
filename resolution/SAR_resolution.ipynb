{
 "cells": [
  {
   "cell_type": "code",
   "execution_count": 1,
   "id": "fe2789e8",
   "metadata": {},
   "outputs": [],
   "source": [
    "import numpy as np"
   ]
  },
  {
   "cell_type": "code",
   "execution_count": 2,
   "id": "7aaa166c",
   "metadata": {},
   "outputs": [],
   "source": [
    "# define parameters\n",
    "\n",
    "B_c = 19e6     # bandwidth\n",
    "tau = 33.9e-6  # pulse length\n",
    "IA  = 30      # incidence angle\n",
    "c   = 3e8     # speed of light"
   ]
  },
  {
   "cell_type": "code",
   "execution_count": 3,
   "id": "963d9ac5",
   "metadata": {},
   "outputs": [
    {
     "name": "stdout",
     "output_type": "stream",
     "text": [
      "ground range resolution at IA=30 degrees: 16.0m\n",
      "azimuth resolution is simply half the antenna size, so also on the order of meters\n"
     ]
    }
   ],
   "source": [
    "# SAR ground range resolution\n",
    "r_gr = c / (2*B_c*np.sin(np.deg2rad(IA)))\n",
    "\n",
    "print(f'ground range resolution at IA={IA} degrees: {np.round(r_gr)}m')\n",
    "print(f'azimuth resolution is simply half the antenna size, so also on the order of meters')"
   ]
  },
  {
   "cell_type": "code",
   "execution_count": null,
   "id": "189d574b-4dde-4323-9ed5-e35b5cdf4cda",
   "metadata": {},
   "outputs": [],
   "source": []
  }
 ],
 "metadata": {
  "kernelspec": {
   "display_name": "Python 3 (ipykernel)",
   "language": "python",
   "name": "python3"
  },
  "language_info": {
   "codemirror_mode": {
    "name": "ipython",
    "version": 3
   },
   "file_extension": ".py",
   "mimetype": "text/x-python",
   "name": "python",
   "nbconvert_exporter": "python",
   "pygments_lexer": "ipython3",
   "version": "3.12.4"
  }
 },
 "nbformat": 4,
 "nbformat_minor": 5
}
