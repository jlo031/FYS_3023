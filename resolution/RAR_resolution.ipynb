{
 "cells": [
  {
   "cell_type": "code",
   "execution_count": 1,
   "id": "fe2789e8",
   "metadata": {},
   "outputs": [],
   "source": [
    "import numpy as np"
   ]
  },
  {
   "cell_type": "code",
   "execution_count": 2,
   "id": "7aaa166c",
   "metadata": {},
   "outputs": [],
   "source": [
    "# define parameters\n",
    "\n",
    "H   = 750e3   # antenna height\n",
    "f   = 10e9    # frequency\n",
    "tau = 10e-6   # pulse length\n",
    "D_a = 3       # antenna size\n",
    "IA  = 30      # incidence angle\n",
    "c   = 3e8     # speed of light"
   ]
  },
  {
   "cell_type": "code",
   "execution_count": 3,
   "id": "e8a447c6",
   "metadata": {},
   "outputs": [
    {
     "name": "stdout",
     "output_type": "stream",
     "text": [
      "wavelength is: 3.0cm\n"
     ]
    }
   ],
   "source": [
    "# calculate wavelength\n",
    "l = c/f\n",
    "\n",
    "print(f'wavelength is: {100*l}cm')"
   ]
  },
  {
   "cell_type": "code",
   "execution_count": 4,
   "id": "963d9ac5",
   "metadata": {},
   "outputs": [
    {
     "name": "stdout",
     "output_type": "stream",
     "text": [
      "ground range resolution at IA=30 degrees: 3000.0m\n",
      "azimuth resolution: 7500.0m\n"
     ]
    }
   ],
   "source": [
    "# RAR ground range resolution\n",
    "r_gr = c*tau / (2*np.sin(np.deg2rad(IA)))\n",
    "\n",
    "# azimuth resolution\n",
    "r_az = l*H / D_a\n",
    "\n",
    "print(f'ground range resolution at IA={IA} degrees: {np.round(r_gr)}m')\n",
    "print(f'azimuth resolution: {np.round(r_az)}m')"
   ]
  },
  {
   "cell_type": "code",
   "execution_count": null,
   "id": "9e8dc47f-665a-4eaf-ab0c-c1c0a24d457d",
   "metadata": {},
   "outputs": [],
   "source": []
  }
 ],
 "metadata": {
  "kernelspec": {
   "display_name": "Python 3 (ipykernel)",
   "language": "python",
   "name": "python3"
  },
  "language_info": {
   "codemirror_mode": {
    "name": "ipython",
    "version": 3
   },
   "file_extension": ".py",
   "mimetype": "text/x-python",
   "name": "python",
   "nbconvert_exporter": "python",
   "pygments_lexer": "ipython3",
   "version": "3.12.4"
  }
 },
 "nbformat": 4,
 "nbformat_minor": 5
}
