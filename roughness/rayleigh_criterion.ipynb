{
 "cells": [
  {
   "cell_type": "code",
   "execution_count": 1,
   "id": "dfd56829-3f0e-4c0a-8e7d-74559ee7863d",
   "metadata": {},
   "outputs": [],
   "source": [
    "import numpy as np"
   ]
  },
  {
   "cell_type": "code",
   "execution_count": 2,
   "id": "c482a79e-4abc-464a-a228-210aa4db66d9",
   "metadata": {},
   "outputs": [],
   "source": [
    "# define parameters\n",
    "l  = 5e-2  # carrier wavelength in m\n",
    "IA = 35    # IA in deg"
   ]
  },
  {
   "cell_type": "code",
   "execution_count": 7,
   "id": "cbfafb38-6501-4839-a81c-12deb3698195",
   "metadata": {},
   "outputs": [
    {
     "name": "stdout",
     "output_type": "stream",
     "text": [
      "The surface starts being \"rough\" with a surface height variation of approximately 0.76cm\n"
     ]
    }
   ],
   "source": [
    "# calculate sigma_h limit for smooth surface\n",
    "sigma_h = l/(8*np.cos(np.deg2rad(IA)))\n",
    "\n",
    "print(f'The surface starts being \"rough\" with a surface height variation of approximately {np.round(sigma_h*100,2)}cm')"
   ]
  }
 ],
 "metadata": {
  "kernelspec": {
   "display_name": "Python 3 (ipykernel)",
   "language": "python",
   "name": "python3"
  },
  "language_info": {
   "codemirror_mode": {
    "name": "ipython",
    "version": 3
   },
   "file_extension": ".py",
   "mimetype": "text/x-python",
   "name": "python",
   "nbconvert_exporter": "python",
   "pygments_lexer": "ipython3",
   "version": "3.12.4"
  }
 },
 "nbformat": 4,
 "nbformat_minor": 5
}
